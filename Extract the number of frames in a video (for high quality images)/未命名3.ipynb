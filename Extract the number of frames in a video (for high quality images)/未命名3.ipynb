{
 "cells": [
  {
   "cell_type": "code",
   "execution_count": null,
   "id": "aa17cb65-89dd-4756-9e05-22c202057243",
   "metadata": {
    "tags": []
   },
   "outputs": [
    {
     "name": "stdout",
     "output_type": "stream",
     "text": [
      "The total number of frames in the video is: 1709\n",
      "Frame is successfully saved as 'frame_470.png'\n"
     ]
    }
   ],
   "source": [
    "import cv2\n",
    "\n",
    "\n",
    "video_path = './186_raw 2.MP4'\n",
    "\n",
    "\n",
    "frame_number = 470  # 比如提取第100帧\n",
    "\n",
    "\n",
    "cap = cv2.VideoCapture(video_path)\n",
    "\n",
    "\n",
    "\n",
    "total_frames = cap.get(cv2.CAP_PROP_FRAME_COUNT)\n",
    "\n",
    "\n",
    "print(f'The total number of frames in the video is: {int(total_frames)}')\n",
    "\n",
    "\n",
    "cap.set(cv2.CAP_PROP_POS_FRAMES, frame_number)\n",
    "\n",
    "\n",
    "success, image = cap.read()\n",
    "\n",
    "\n",
    "if success:\n",
    "\n",
    "    cv2.imwrite('./frame_{}.png'.format(frame_number), image)\n",
    "    print(\"Frame is successfully saved as 'frame_{}.png'\".format(frame_number))\n",
    "else:\n",
    "    print(\"Error: Unable to read the frame. Please check the frame number and the video file.\")\n",
    "\n",
    "\n",
    "cap.release()"
   ]
  },
  {
   "cell_type": "code",
   "execution_count": null,
   "id": "744adb0a-0696-496d-a01b-f0b8cbdd82ee",
   "metadata": {},
   "outputs": [],
   "source": []
  }
 ],
 "metadata": {
  "kernelspec": {
   "display_name": "ast_work",
   "language": "python",
   "name": "ast_work"
  },
  "language_info": {
   "codemirror_mode": {
    "name": "ipython",
    "version": 3
   },
   "file_extension": ".py",
   "mimetype": "text/x-python",
   "name": "python",
   "nbconvert_exporter": "python",
   "pygments_lexer": "ipython3",
   "version": "3.11.6"
  }
 },
 "nbformat": 4,
 "nbformat_minor": 5
}
